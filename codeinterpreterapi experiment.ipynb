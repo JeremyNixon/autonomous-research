{
 "cells": [
  {
   "cell_type": "code",
   "execution_count": null,
   "id": "ce3fe205-d48b-4105-a5bd-a5c5448f7205",
   "metadata": {},
   "outputs": [],
   "source": []
  },
  {
   "cell_type": "code",
   "execution_count": null,
   "id": "94244331-00f9-494b-a243-03734b3fdfc7",
   "metadata": {},
   "outputs": [],
   "source": [
    "from codeinterpreterapi import CodeInterpreterSession\n",
    "from codeinterpreterapi.schema.file import File\n",
    "\n",
    "\n",
    "class CodeInterpreter():\n",
    "    def __init__(self):\n",
    "        self.session = CodeInterpreterSession()\n",
    "\n",
    "    async def start(self):\n",
    "        await self.session.astart()\n",
    "\n",
    "    async def generate_response(self, query, file_path='book_queue (8).csv'):\n",
    "        print(\"Creating file...\")\n",
    "        f = File.from_path(\"/home/data/\" + file_path)\n",
    "        print(\"FILE:\", f.content)\n",
    "        output = await self.session.generate_response(query, files=[f])\n",
    "        print(\"AI: \", output.content)\n",
    "\n",
    "        if output.files and len(output.files) > 0:\n",
    "            for f in output.files:\n",
    "                f.show_image()\n",
    "            return output.content, output.files\n",
    "\n",
    "        return output.content, None\n",
    "\n",
    "async def main():\n",
    "    # start a session\n",
    "    print(\"Starting session...\")\n",
    "    session = CodeInterpreterSession()\n",
    "    await session.astart()\n",
    "\n",
    "    print(\"Creating file...\")\n",
    "    f = File.from_path(\"/home/data/book_queue (8).csv\")\n",
    "    print(\"FILE:\", f.content)\n",
    "\n",
    "    # generate a response based on user input\n",
    "    output = await session.generate_response(\n",
    "        \"Given the data in a file called book_queue (8).csv, tell me up to 5 insights that can be used to write a publishable paper.\",\n",
    "        files=[f]\n",
    "    )\n",
    "    \n",
    "    # show output image in default image viewer\n",
    "    if output.files and len(output.files) > 0:\n",
    "        file = output.files[0]\n",
    "        file.show_image()\n",
    "\n",
    "    # show output text\n",
    "    print(\"AI: \", output.content)\n",
    "\n",
    "    # terminate the session\n",
    "    await session.astop()"
   ]
  }
 ],
 "metadata": {
  "kernelspec": {
   "display_name": "Python 3 (ipykernel)",
   "language": "python",
   "name": "python3"
  },
  "language_info": {
   "codemirror_mode": {
    "name": "ipython",
    "version": 3
   },
   "file_extension": ".py",
   "mimetype": "text/x-python",
   "name": "python",
   "nbconvert_exporter": "python",
   "pygments_lexer": "ipython3",
   "version": "3.9.2"
  }
 },
 "nbformat": 4,
 "nbformat_minor": 5
}
